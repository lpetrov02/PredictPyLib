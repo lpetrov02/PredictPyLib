{
  "nbformat": 4,
  "nbformat_minor": 0,
  "metadata": {
    "colab": {
      "provenance": [],
      "gpuType": "T4"
    },
    "kernelspec": {
      "name": "python3",
      "display_name": "Python 3"
    },
    "language_info": {
      "name": "python"
    },
    "widgets": {
      "application/vnd.jupyter.widget-state+json": {
        "99664f9fb9ee4ad69b327bd433a79733": {
          "model_module": "@jupyter-widgets/controls",
          "model_name": "HBoxModel",
          "model_module_version": "1.5.0",
          "state": {
            "_dom_classes": [],
            "_model_module": "@jupyter-widgets/controls",
            "_model_module_version": "1.5.0",
            "_model_name": "HBoxModel",
            "_view_count": null,
            "_view_module": "@jupyter-widgets/controls",
            "_view_module_version": "1.5.0",
            "_view_name": "HBoxView",
            "box_style": "",
            "children": [
              "IPY_MODEL_812df1613537435abb95d0dbfa64dd44",
              "IPY_MODEL_719b121ee4084c5bba9488b9acf1203f",
              "IPY_MODEL_9afbbe2f16324056923db5488d2ad876"
            ],
            "layout": "IPY_MODEL_7338e50293c847dd8aae9434e37dfcb8"
          }
        },
        "812df1613537435abb95d0dbfa64dd44": {
          "model_module": "@jupyter-widgets/controls",
          "model_name": "HTMLModel",
          "model_module_version": "1.5.0",
          "state": {
            "_dom_classes": [],
            "_model_module": "@jupyter-widgets/controls",
            "_model_module_version": "1.5.0",
            "_model_name": "HTMLModel",
            "_view_count": null,
            "_view_module": "@jupyter-widgets/controls",
            "_view_module_version": "1.5.0",
            "_view_name": "HTMLView",
            "description": "",
            "description_tooltip": null,
            "layout": "IPY_MODEL_550d4c90c1614a38a534e4fa08a2cf67",
            "placeholder": "​",
            "style": "IPY_MODEL_0a743a3e6d234e718e4ab5d64ad7a8ef",
            "value": "100%"
          }
        },
        "719b121ee4084c5bba9488b9acf1203f": {
          "model_module": "@jupyter-widgets/controls",
          "model_name": "FloatProgressModel",
          "model_module_version": "1.5.0",
          "state": {
            "_dom_classes": [],
            "_model_module": "@jupyter-widgets/controls",
            "_model_module_version": "1.5.0",
            "_model_name": "FloatProgressModel",
            "_view_count": null,
            "_view_module": "@jupyter-widgets/controls",
            "_view_module_version": "1.5.0",
            "_view_name": "ProgressView",
            "bar_style": "success",
            "description": "",
            "description_tooltip": null,
            "layout": "IPY_MODEL_c645f6e6dc5b488dacb52bb24b70a66a",
            "max": 68369,
            "min": 0,
            "orientation": "horizontal",
            "style": "IPY_MODEL_8e5622a8c12a4dd5a78745b3b3951189",
            "value": 68369
          }
        },
        "9afbbe2f16324056923db5488d2ad876": {
          "model_module": "@jupyter-widgets/controls",
          "model_name": "HTMLModel",
          "model_module_version": "1.5.0",
          "state": {
            "_dom_classes": [],
            "_model_module": "@jupyter-widgets/controls",
            "_model_module_version": "1.5.0",
            "_model_name": "HTMLModel",
            "_view_count": null,
            "_view_module": "@jupyter-widgets/controls",
            "_view_module_version": "1.5.0",
            "_view_name": "HTMLView",
            "description": "",
            "description_tooltip": null,
            "layout": "IPY_MODEL_11b2fe41d3094f58b47405ecadadd857",
            "placeholder": "​",
            "style": "IPY_MODEL_5254055322194bfdbfa035fd9656dbbd",
            "value": " 68369/68369 [00:17&lt;00:00, 1934.77it/s]"
          }
        },
        "7338e50293c847dd8aae9434e37dfcb8": {
          "model_module": "@jupyter-widgets/base",
          "model_name": "LayoutModel",
          "model_module_version": "1.2.0",
          "state": {
            "_model_module": "@jupyter-widgets/base",
            "_model_module_version": "1.2.0",
            "_model_name": "LayoutModel",
            "_view_count": null,
            "_view_module": "@jupyter-widgets/base",
            "_view_module_version": "1.2.0",
            "_view_name": "LayoutView",
            "align_content": null,
            "align_items": null,
            "align_self": null,
            "border": null,
            "bottom": null,
            "display": null,
            "flex": null,
            "flex_flow": null,
            "grid_area": null,
            "grid_auto_columns": null,
            "grid_auto_flow": null,
            "grid_auto_rows": null,
            "grid_column": null,
            "grid_gap": null,
            "grid_row": null,
            "grid_template_areas": null,
            "grid_template_columns": null,
            "grid_template_rows": null,
            "height": null,
            "justify_content": null,
            "justify_items": null,
            "left": null,
            "margin": null,
            "max_height": null,
            "max_width": null,
            "min_height": null,
            "min_width": null,
            "object_fit": null,
            "object_position": null,
            "order": null,
            "overflow": null,
            "overflow_x": null,
            "overflow_y": null,
            "padding": null,
            "right": null,
            "top": null,
            "visibility": null,
            "width": null
          }
        },
        "550d4c90c1614a38a534e4fa08a2cf67": {
          "model_module": "@jupyter-widgets/base",
          "model_name": "LayoutModel",
          "model_module_version": "1.2.0",
          "state": {
            "_model_module": "@jupyter-widgets/base",
            "_model_module_version": "1.2.0",
            "_model_name": "LayoutModel",
            "_view_count": null,
            "_view_module": "@jupyter-widgets/base",
            "_view_module_version": "1.2.0",
            "_view_name": "LayoutView",
            "align_content": null,
            "align_items": null,
            "align_self": null,
            "border": null,
            "bottom": null,
            "display": null,
            "flex": null,
            "flex_flow": null,
            "grid_area": null,
            "grid_auto_columns": null,
            "grid_auto_flow": null,
            "grid_auto_rows": null,
            "grid_column": null,
            "grid_gap": null,
            "grid_row": null,
            "grid_template_areas": null,
            "grid_template_columns": null,
            "grid_template_rows": null,
            "height": null,
            "justify_content": null,
            "justify_items": null,
            "left": null,
            "margin": null,
            "max_height": null,
            "max_width": null,
            "min_height": null,
            "min_width": null,
            "object_fit": null,
            "object_position": null,
            "order": null,
            "overflow": null,
            "overflow_x": null,
            "overflow_y": null,
            "padding": null,
            "right": null,
            "top": null,
            "visibility": null,
            "width": null
          }
        },
        "0a743a3e6d234e718e4ab5d64ad7a8ef": {
          "model_module": "@jupyter-widgets/controls",
          "model_name": "DescriptionStyleModel",
          "model_module_version": "1.5.0",
          "state": {
            "_model_module": "@jupyter-widgets/controls",
            "_model_module_version": "1.5.0",
            "_model_name": "DescriptionStyleModel",
            "_view_count": null,
            "_view_module": "@jupyter-widgets/base",
            "_view_module_version": "1.2.0",
            "_view_name": "StyleView",
            "description_width": ""
          }
        },
        "c645f6e6dc5b488dacb52bb24b70a66a": {
          "model_module": "@jupyter-widgets/base",
          "model_name": "LayoutModel",
          "model_module_version": "1.2.0",
          "state": {
            "_model_module": "@jupyter-widgets/base",
            "_model_module_version": "1.2.0",
            "_model_name": "LayoutModel",
            "_view_count": null,
            "_view_module": "@jupyter-widgets/base",
            "_view_module_version": "1.2.0",
            "_view_name": "LayoutView",
            "align_content": null,
            "align_items": null,
            "align_self": null,
            "border": null,
            "bottom": null,
            "display": null,
            "flex": null,
            "flex_flow": null,
            "grid_area": null,
            "grid_auto_columns": null,
            "grid_auto_flow": null,
            "grid_auto_rows": null,
            "grid_column": null,
            "grid_gap": null,
            "grid_row": null,
            "grid_template_areas": null,
            "grid_template_columns": null,
            "grid_template_rows": null,
            "height": null,
            "justify_content": null,
            "justify_items": null,
            "left": null,
            "margin": null,
            "max_height": null,
            "max_width": null,
            "min_height": null,
            "min_width": null,
            "object_fit": null,
            "object_position": null,
            "order": null,
            "overflow": null,
            "overflow_x": null,
            "overflow_y": null,
            "padding": null,
            "right": null,
            "top": null,
            "visibility": null,
            "width": null
          }
        },
        "8e5622a8c12a4dd5a78745b3b3951189": {
          "model_module": "@jupyter-widgets/controls",
          "model_name": "ProgressStyleModel",
          "model_module_version": "1.5.0",
          "state": {
            "_model_module": "@jupyter-widgets/controls",
            "_model_module_version": "1.5.0",
            "_model_name": "ProgressStyleModel",
            "_view_count": null,
            "_view_module": "@jupyter-widgets/base",
            "_view_module_version": "1.2.0",
            "_view_name": "StyleView",
            "bar_color": null,
            "description_width": ""
          }
        },
        "11b2fe41d3094f58b47405ecadadd857": {
          "model_module": "@jupyter-widgets/base",
          "model_name": "LayoutModel",
          "model_module_version": "1.2.0",
          "state": {
            "_model_module": "@jupyter-widgets/base",
            "_model_module_version": "1.2.0",
            "_model_name": "LayoutModel",
            "_view_count": null,
            "_view_module": "@jupyter-widgets/base",
            "_view_module_version": "1.2.0",
            "_view_name": "LayoutView",
            "align_content": null,
            "align_items": null,
            "align_self": null,
            "border": null,
            "bottom": null,
            "display": null,
            "flex": null,
            "flex_flow": null,
            "grid_area": null,
            "grid_auto_columns": null,
            "grid_auto_flow": null,
            "grid_auto_rows": null,
            "grid_column": null,
            "grid_gap": null,
            "grid_row": null,
            "grid_template_areas": null,
            "grid_template_columns": null,
            "grid_template_rows": null,
            "height": null,
            "justify_content": null,
            "justify_items": null,
            "left": null,
            "margin": null,
            "max_height": null,
            "max_width": null,
            "min_height": null,
            "min_width": null,
            "object_fit": null,
            "object_position": null,
            "order": null,
            "overflow": null,
            "overflow_x": null,
            "overflow_y": null,
            "padding": null,
            "right": null,
            "top": null,
            "visibility": null,
            "width": null
          }
        },
        "5254055322194bfdbfa035fd9656dbbd": {
          "model_module": "@jupyter-widgets/controls",
          "model_name": "DescriptionStyleModel",
          "model_module_version": "1.5.0",
          "state": {
            "_model_module": "@jupyter-widgets/controls",
            "_model_module_version": "1.5.0",
            "_model_name": "DescriptionStyleModel",
            "_view_count": null,
            "_view_module": "@jupyter-widgets/base",
            "_view_module_version": "1.2.0",
            "_view_name": "StyleView",
            "description_width": ""
          }
        }
      }
    },
    "accelerator": "GPU",
    "gpuClass": "standard"
  },
  "cells": [
    {
      "cell_type": "code",
      "execution_count": null,
      "metadata": {
        "id": "3rge0Sn8RMn6",
        "colab": {
          "base_uri": "https://localhost:8080/"
        },
        "outputId": "76faf8db-5a29-4f7a-e467-8500055a581a"
      },
      "outputs": [
        {
          "output_type": "stream",
          "name": "stderr",
          "text": [
            "[nltk_data] Downloading package stopwords to /root/nltk_data...\n",
            "[nltk_data]   Package stopwords is already up-to-date!\n"
          ]
        }
      ],
      "source": [
        "import numpy as np\n",
        "import pandas as pd\n",
        "import matplotlib.pyplot as plt\n",
        "import torch\n",
        "import torch.nn as nn\n",
        "\n",
        "from sklearn.model_selection import train_test_split\n",
        "\n",
        "from tqdm.notebook import tqdm\n",
        "\n",
        "import time\n",
        "\n",
        "import nltk\n",
        "nltk.download('stopwords')\n",
        "\n",
        "from nltk.stem import WordNetLemmatizer\n",
        "from nltk.corpus import stopwords\n",
        "from nltk import wordpunct_tokenize\n",
        "from nltk.stem import PorterStemmer\n",
        "\n",
        "from dataclasses import dataclass\n",
        "\n",
        "from sklearn.pipeline import Pipeline\n",
        "from sklearn.feature_extraction.text import CountVectorizer, TfidfTransformer\n",
        "from sklearn.linear_model import LogisticRegression\n",
        "from sklearn.model_selection import GridSearchCV\n",
        "\n",
        "from sklearn.metrics import log_loss, accuracy_score, top_k_accuracy_score"
      ]
    },
    {
      "cell_type": "code",
      "source": [
        "train_data = pd.read_csv(\"./data/train.csv\")\n",
        "test_data = pd.read_csv(\"./data/test.csv\")"
      ],
      "metadata": {
        "id": "I4nSwVj6RUp3"
      },
      "execution_count": null,
      "outputs": []
    },
    {
      "cell_type": "code",
      "source": [
        "print(f\"Train data shape: {train_data.shape}\")\n",
        "print(f\"Test data shape: {test_data.shape}\")"
      ],
      "metadata": {
        "colab": {
          "base_uri": "https://localhost:8080/"
        },
        "id": "AymItyjKf1s8",
        "outputId": "96001661-2c7b-4547-9ee5-9423d7ce33b8"
      },
      "execution_count": null,
      "outputs": [
        {
          "output_type": "stream",
          "name": "stdout",
          "text": [
            "Train data shape: (68370, 3)\n",
            "Test data shape: (33506, 2)\n"
          ]
        }
      ]
    },
    {
      "cell_type": "code",
      "source": [
        "print(train_data[pd.isna(train_data[\"lib\"])])"
      ],
      "metadata": {
        "colab": {
          "base_uri": "https://localhost:8080/"
        },
        "id": "t9Wv42DWXhqO",
        "outputId": "7ea9b9ca-711b-45c4-a1a1-d0491a733ec9"
      },
      "execution_count": null,
      "outputs": [
        {
          "output_type": "stream",
          "name": "stdout",
          "text": [
            "                                                title  lib  id\n",
            "68369  How to convert some character into five digit   NaN NaN\n"
          ]
        }
      ]
    },
    {
      "cell_type": "code",
      "source": [
        "train_data = train_data.dropna()"
      ],
      "metadata": {
        "id": "LJe6O0xpYXIz"
      },
      "execution_count": null,
      "outputs": []
    },
    {
      "cell_type": "code",
      "source": [
        "# libs, counts = np.unique(train_data[\"lib\"].tolist(), return_counts=True)\n",
        "# plt.figure(figsize=(16, 10))\n",
        "# plt.bar(libs, counts)\n",
        "# Тут смотрим на гистограмму"
      ],
      "metadata": {
        "id": "sznSerMUtxgl"
      },
      "execution_count": null,
      "outputs": []
    },
    {
      "cell_type": "code",
      "source": [
        "# 0. Предобработка данных"
      ],
      "metadata": {
        "id": "34BBHmrZhFsB"
      },
      "execution_count": null,
      "outputs": []
    },
    {
      "cell_type": "code",
      "source": [
        "data_x, data_y = np.array(train_data.loc[:, \"title\"]), np.array(train_data.loc[:, \"lib\"])\n",
        "data_test_x = np.array(test_data.loc[:, \"title\"])"
      ],
      "metadata": {
        "id": "w4wfgtBShSAx"
      },
      "execution_count": null,
      "outputs": []
    },
    {
      "cell_type": "code",
      "source": [
        "labels = np.unique(data_y)\n",
        "label_to_idx = {label: i for i, label in enumerate(labels)}\n",
        "n_classes = len(labels)\n",
        "print(\"Labels:\")\n",
        "print(labels, n_classes, '\\n')"
      ],
      "metadata": {
        "colab": {
          "base_uri": "https://localhost:8080/"
        },
        "id": "g6hNBg28hb71",
        "outputId": "c42ebc8a-58a4-4908-8085-dfb7b2990826"
      },
      "execution_count": null,
      "outputs": [
        {
          "output_type": "stream",
          "name": "stdout",
          "text": [
            "Labels:\n",
            "['collections' 'csv' 'datetime' 'django' 'flask' 'functools' 'itertools'\n",
            " 'json' 'math' 'matplotlib' 'numpy' 'os' 'pandas' 'random' 're' 'requests'\n",
            " 'scipy' 'selenium' 'sklearn' 'subprocess' 'sys' 'tensorflow' 'time'\n",
            " 'urllib'] 24 \n",
            "\n"
          ]
        }
      ]
    },
    {
      "cell_type": "code",
      "source": [
        "def preprocess(titles_x, labels_y):\n",
        "    X, y = [], []\n",
        "    stemmer = PorterStemmer()\n",
        "    stopWords = set(stopwords.words('english')) | set([\"'\", \"\\\"\", \",\", \".\", \"?\", \"!\"])\n",
        "    for title, label in zip(titles_x, labels_y):\n",
        "        tokens = wordpunct_tokenize(title.lower())\n",
        "        tokens = list(map(stemmer.stem, tokens))\n",
        "        proc_title = \" \".join([token for token in tokens if token not in stopWords]).replace(\"&\", \"and\")\n",
        "        X.append(proc_title)\n",
        "        y.append(label_to_idx[label])\n",
        "    return np.array(X), np.array(y)"
      ],
      "metadata": {
        "id": "IzYoXkHbiN_w"
      },
      "execution_count": null,
      "outputs": []
    },
    {
      "cell_type": "code",
      "source": [
        "data_x, data_y = preprocess(data_x, data_y)"
      ],
      "metadata": {
        "colab": {
          "base_uri": "https://localhost:8080/",
          "height": 49,
          "referenced_widgets": [
            "99664f9fb9ee4ad69b327bd433a79733",
            "812df1613537435abb95d0dbfa64dd44",
            "719b121ee4084c5bba9488b9acf1203f",
            "9afbbe2f16324056923db5488d2ad876",
            "7338e50293c847dd8aae9434e37dfcb8",
            "550d4c90c1614a38a534e4fa08a2cf67",
            "0a743a3e6d234e718e4ab5d64ad7a8ef",
            "c645f6e6dc5b488dacb52bb24b70a66a",
            "8e5622a8c12a4dd5a78745b3b3951189",
            "11b2fe41d3094f58b47405ecadadd857",
            "5254055322194bfdbfa035fd9656dbbd"
          ]
        },
        "id": "jQYenZzhkeCP",
        "outputId": "2b2975fa-ca79-4bb6-bd8b-adb0ed5702d3"
      },
      "execution_count": null,
      "outputs": [
        {
          "output_type": "display_data",
          "data": {
            "text/plain": [
              "  0%|          | 0/68369 [00:00<?, ?it/s]"
            ],
            "application/vnd.jupyter.widget-view+json": {
              "version_major": 2,
              "version_minor": 0,
              "model_id": "99664f9fb9ee4ad69b327bd433a79733"
            }
          },
          "metadata": {}
        }
      ]
    },
    {
      "cell_type": "code",
      "source": [
        "print(list(zip(data_x[:5], data_y[:5])))"
      ],
      "metadata": {
        "colab": {
          "base_uri": "https://localhost:8080/"
        },
        "id": "XAD8Ib0Ups6w",
        "outputId": "95ba7904-fdb7-4f30-b379-1171cacfe887"
      },
      "execution_count": null,
      "outputs": [
        {
          "output_type": "stream",
          "name": "stdout",
          "text": [
            "[('way sort string alphabet order capit letter first', 5), ('maintain histori soft delet row tabl', 3), ('wave string analysi', 10), ('regular express find word part larger phrase', 14), ('textblob - loop articl calcul polar and subject score', 12)]\n"
          ]
        }
      ]
    },
    {
      "cell_type": "code",
      "source": [
        "# Для данной задачи пунктуация не важна, ровно как и эмоциональная окраска (которая может выражаться через \"?\" и \"!\")"
      ],
      "metadata": {
        "id": "j4QfQoqkhBvg"
      },
      "execution_count": null,
      "outputs": []
    },
    {
      "cell_type": "code",
      "source": [
        "X_train, X_val, y_train, y_val = train_test_split(data_x, data_y)\n",
        "print(\"X_train shape: \", X_train.shape, \"y_train shape: \", y_train.shape)"
      ],
      "metadata": {
        "colab": {
          "base_uri": "https://localhost:8080/"
        },
        "id": "ouLeJlogaHjq",
        "outputId": "0483e2ac-67a9-42ff-f899-760b44471655"
      },
      "execution_count": null,
      "outputs": [
        {
          "output_type": "stream",
          "name": "stdout",
          "text": [
            "X_train shape:  (51276,) y_train shape:  (51276,)\n"
          ]
        }
      ]
    },
    {
      "cell_type": "code",
      "source": [
        "# 1. Бейзлайн\n",
        "# Пусть это будет простая логистическая регрессия с *tf-idf* фичами"
      ],
      "metadata": {
        "id": "jcD-BpeuhSF0"
      },
      "execution_count": null,
      "outputs": []
    },
    {
      "cell_type": "code",
      "source": [
        "pipeline = Pipeline(\n",
        "    [('vectorize', CountVectorizer()), ('transform', TfidfTransformer()), ('logregression', LogisticRegression(max_iter=1000))]\n",
        ")\n",
        "\n",
        "param_grid = {\n",
        "    \"logregression__C\": [0.01, 0.025, 0.05, 0.1, 1, 10],\n",
        "}\n",
        "\n",
        "search_cv = GridSearchCV(pipeline, param_grid, verbose=3)\n",
        "search_cv.fit(X_train, y_train)"
      ],
      "metadata": {
        "id": "a-ULeZTsroMx",
        "colab": {
          "base_uri": "https://localhost:8080/",
          "height": 725
        },
        "outputId": "987523fb-1561-4f4d-c2f2-fad96d6fdd58"
      },
      "execution_count": null,
      "outputs": [
        {
          "output_type": "stream",
          "name": "stdout",
          "text": [
            "Fitting 5 folds for each of 6 candidates, totalling 30 fits\n",
            "[CV 1/5] END .............logregression__C=0.01;, score=0.369 total time=   8.5s\n",
            "[CV 2/5] END .............logregression__C=0.01;, score=0.368 total time=   7.9s\n",
            "[CV 3/5] END .............logregression__C=0.01;, score=0.365 total time=   5.8s\n",
            "[CV 4/5] END .............logregression__C=0.01;, score=0.362 total time=  11.6s\n",
            "[CV 5/5] END .............logregression__C=0.01;, score=0.364 total time=   8.8s\n",
            "[CV 1/5] END ............logregression__C=0.025;, score=0.477 total time=   8.1s\n",
            "[CV 2/5] END ............logregression__C=0.025;, score=0.475 total time=   9.3s\n",
            "[CV 3/5] END ............logregression__C=0.025;, score=0.473 total time=  12.8s\n",
            "[CV 4/5] END ............logregression__C=0.025;, score=0.470 total time=   9.1s\n",
            "[CV 5/5] END ............logregression__C=0.025;, score=0.474 total time=   8.2s\n",
            "[CV 1/5] END .............logregression__C=0.05;, score=0.528 total time=  12.0s\n",
            "[CV 2/5] END .............logregression__C=0.05;, score=0.528 total time=  12.0s\n",
            "[CV 3/5] END .............logregression__C=0.05;, score=0.525 total time=  12.5s\n",
            "[CV 4/5] END .............logregression__C=0.05;, score=0.517 total time=  11.9s\n",
            "[CV 5/5] END .............logregression__C=0.05;, score=0.523 total time=  10.6s\n",
            "[CV 1/5] END ..............logregression__C=0.1;, score=0.564 total time=  13.6s\n",
            "[CV 2/5] END ..............logregression__C=0.1;, score=0.558 total time=  14.3s\n",
            "[CV 3/5] END ..............logregression__C=0.1;, score=0.558 total time=  13.1s\n",
            "[CV 4/5] END ..............logregression__C=0.1;, score=0.550 total time=  13.6s\n",
            "[CV 5/5] END ..............logregression__C=0.1;, score=0.554 total time=  17.9s\n",
            "[CV 1/5] END ................logregression__C=1;, score=0.603 total time=  43.3s\n",
            "[CV 2/5] END ................logregression__C=1;, score=0.598 total time=  34.2s\n",
            "[CV 3/5] END ................logregression__C=1;, score=0.600 total time=  34.4s\n",
            "[CV 4/5] END ................logregression__C=1;, score=0.593 total time=  31.4s\n",
            "[CV 5/5] END ................logregression__C=1;, score=0.596 total time=  35.8s\n",
            "[CV 1/5] END ...............logregression__C=10;, score=0.581 total time= 1.5min\n",
            "[CV 2/5] END ...............logregression__C=10;, score=0.577 total time= 1.4min\n",
            "[CV 3/5] END ...............logregression__C=10;, score=0.579 total time= 1.5min\n",
            "[CV 4/5] END ...............logregression__C=10;, score=0.570 total time= 1.5min\n",
            "[CV 5/5] END ...............logregression__C=10;, score=0.572 total time= 1.5min\n"
          ]
        },
        {
          "output_type": "execute_result",
          "data": {
            "text/plain": [
              "GridSearchCV(estimator=Pipeline(steps=[('vectorize', CountVectorizer()),\n",
              "                                       ('transform', TfidfTransformer()),\n",
              "                                       ('logregression',\n",
              "                                        LogisticRegression(max_iter=1000))]),\n",
              "             param_grid={'logregression__C': [0.01, 0.025, 0.05, 0.1, 1, 10]},\n",
              "             verbose=3)"
            ],
            "text/html": [
              "<style>#sk-container-id-1 {color: black;background-color: white;}#sk-container-id-1 pre{padding: 0;}#sk-container-id-1 div.sk-toggleable {background-color: white;}#sk-container-id-1 label.sk-toggleable__label {cursor: pointer;display: block;width: 100%;margin-bottom: 0;padding: 0.3em;box-sizing: border-box;text-align: center;}#sk-container-id-1 label.sk-toggleable__label-arrow:before {content: \"▸\";float: left;margin-right: 0.25em;color: #696969;}#sk-container-id-1 label.sk-toggleable__label-arrow:hover:before {color: black;}#sk-container-id-1 div.sk-estimator:hover label.sk-toggleable__label-arrow:before {color: black;}#sk-container-id-1 div.sk-toggleable__content {max-height: 0;max-width: 0;overflow: hidden;text-align: left;background-color: #f0f8ff;}#sk-container-id-1 div.sk-toggleable__content pre {margin: 0.2em;color: black;border-radius: 0.25em;background-color: #f0f8ff;}#sk-container-id-1 input.sk-toggleable__control:checked~div.sk-toggleable__content {max-height: 200px;max-width: 100%;overflow: auto;}#sk-container-id-1 input.sk-toggleable__control:checked~label.sk-toggleable__label-arrow:before {content: \"▾\";}#sk-container-id-1 div.sk-estimator input.sk-toggleable__control:checked~label.sk-toggleable__label {background-color: #d4ebff;}#sk-container-id-1 div.sk-label input.sk-toggleable__control:checked~label.sk-toggleable__label {background-color: #d4ebff;}#sk-container-id-1 input.sk-hidden--visually {border: 0;clip: rect(1px 1px 1px 1px);clip: rect(1px, 1px, 1px, 1px);height: 1px;margin: -1px;overflow: hidden;padding: 0;position: absolute;width: 1px;}#sk-container-id-1 div.sk-estimator {font-family: monospace;background-color: #f0f8ff;border: 1px dotted black;border-radius: 0.25em;box-sizing: border-box;margin-bottom: 0.5em;}#sk-container-id-1 div.sk-estimator:hover {background-color: #d4ebff;}#sk-container-id-1 div.sk-parallel-item::after {content: \"\";width: 100%;border-bottom: 1px solid gray;flex-grow: 1;}#sk-container-id-1 div.sk-label:hover label.sk-toggleable__label {background-color: #d4ebff;}#sk-container-id-1 div.sk-serial::before {content: \"\";position: absolute;border-left: 1px solid gray;box-sizing: border-box;top: 0;bottom: 0;left: 50%;z-index: 0;}#sk-container-id-1 div.sk-serial {display: flex;flex-direction: column;align-items: center;background-color: white;padding-right: 0.2em;padding-left: 0.2em;position: relative;}#sk-container-id-1 div.sk-item {position: relative;z-index: 1;}#sk-container-id-1 div.sk-parallel {display: flex;align-items: stretch;justify-content: center;background-color: white;position: relative;}#sk-container-id-1 div.sk-item::before, #sk-container-id-1 div.sk-parallel-item::before {content: \"\";position: absolute;border-left: 1px solid gray;box-sizing: border-box;top: 0;bottom: 0;left: 50%;z-index: -1;}#sk-container-id-1 div.sk-parallel-item {display: flex;flex-direction: column;z-index: 1;position: relative;background-color: white;}#sk-container-id-1 div.sk-parallel-item:first-child::after {align-self: flex-end;width: 50%;}#sk-container-id-1 div.sk-parallel-item:last-child::after {align-self: flex-start;width: 50%;}#sk-container-id-1 div.sk-parallel-item:only-child::after {width: 0;}#sk-container-id-1 div.sk-dashed-wrapped {border: 1px dashed gray;margin: 0 0.4em 0.5em 0.4em;box-sizing: border-box;padding-bottom: 0.4em;background-color: white;}#sk-container-id-1 div.sk-label label {font-family: monospace;font-weight: bold;display: inline-block;line-height: 1.2em;}#sk-container-id-1 div.sk-label-container {text-align: center;}#sk-container-id-1 div.sk-container {/* jupyter's `normalize.less` sets `[hidden] { display: none; }` but bootstrap.min.css set `[hidden] { display: none !important; }` so we also need the `!important` here to be able to override the default hidden behavior on the sphinx rendered scikit-learn.org. See: https://github.com/scikit-learn/scikit-learn/issues/21755 */display: inline-block !important;position: relative;}#sk-container-id-1 div.sk-text-repr-fallback {display: none;}</style><div id=\"sk-container-id-1\" class=\"sk-top-container\"><div class=\"sk-text-repr-fallback\"><pre>GridSearchCV(estimator=Pipeline(steps=[(&#x27;vectorize&#x27;, CountVectorizer()),\n",
              "                                       (&#x27;transform&#x27;, TfidfTransformer()),\n",
              "                                       (&#x27;logregression&#x27;,\n",
              "                                        LogisticRegression(max_iter=1000))]),\n",
              "             param_grid={&#x27;logregression__C&#x27;: [0.01, 0.025, 0.05, 0.1, 1, 10]},\n",
              "             verbose=3)</pre><b>In a Jupyter environment, please rerun this cell to show the HTML representation or trust the notebook. <br />On GitHub, the HTML representation is unable to render, please try loading this page with nbviewer.org.</b></div><div class=\"sk-container\" hidden><div class=\"sk-item sk-dashed-wrapped\"><div class=\"sk-label-container\"><div class=\"sk-label sk-toggleable\"><input class=\"sk-toggleable__control sk-hidden--visually\" id=\"sk-estimator-id-1\" type=\"checkbox\" ><label for=\"sk-estimator-id-1\" class=\"sk-toggleable__label sk-toggleable__label-arrow\">GridSearchCV</label><div class=\"sk-toggleable__content\"><pre>GridSearchCV(estimator=Pipeline(steps=[(&#x27;vectorize&#x27;, CountVectorizer()),\n",
              "                                       (&#x27;transform&#x27;, TfidfTransformer()),\n",
              "                                       (&#x27;logregression&#x27;,\n",
              "                                        LogisticRegression(max_iter=1000))]),\n",
              "             param_grid={&#x27;logregression__C&#x27;: [0.01, 0.025, 0.05, 0.1, 1, 10]},\n",
              "             verbose=3)</pre></div></div></div><div class=\"sk-parallel\"><div class=\"sk-parallel-item\"><div class=\"sk-item\"><div class=\"sk-label-container\"><div class=\"sk-label sk-toggleable\"><input class=\"sk-toggleable__control sk-hidden--visually\" id=\"sk-estimator-id-2\" type=\"checkbox\" ><label for=\"sk-estimator-id-2\" class=\"sk-toggleable__label sk-toggleable__label-arrow\">estimator: Pipeline</label><div class=\"sk-toggleable__content\"><pre>Pipeline(steps=[(&#x27;vectorize&#x27;, CountVectorizer()),\n",
              "                (&#x27;transform&#x27;, TfidfTransformer()),\n",
              "                (&#x27;logregression&#x27;, LogisticRegression(max_iter=1000))])</pre></div></div></div><div class=\"sk-serial\"><div class=\"sk-item\"><div class=\"sk-serial\"><div class=\"sk-item\"><div class=\"sk-estimator sk-toggleable\"><input class=\"sk-toggleable__control sk-hidden--visually\" id=\"sk-estimator-id-3\" type=\"checkbox\" ><label for=\"sk-estimator-id-3\" class=\"sk-toggleable__label sk-toggleable__label-arrow\">CountVectorizer</label><div class=\"sk-toggleable__content\"><pre>CountVectorizer()</pre></div></div></div><div class=\"sk-item\"><div class=\"sk-estimator sk-toggleable\"><input class=\"sk-toggleable__control sk-hidden--visually\" id=\"sk-estimator-id-4\" type=\"checkbox\" ><label for=\"sk-estimator-id-4\" class=\"sk-toggleable__label sk-toggleable__label-arrow\">TfidfTransformer</label><div class=\"sk-toggleable__content\"><pre>TfidfTransformer()</pre></div></div></div><div class=\"sk-item\"><div class=\"sk-estimator sk-toggleable\"><input class=\"sk-toggleable__control sk-hidden--visually\" id=\"sk-estimator-id-5\" type=\"checkbox\" ><label for=\"sk-estimator-id-5\" class=\"sk-toggleable__label sk-toggleable__label-arrow\">LogisticRegression</label><div class=\"sk-toggleable__content\"><pre>LogisticRegression(max_iter=1000)</pre></div></div></div></div></div></div></div></div></div></div></div></div>"
            ]
          },
          "metadata": {},
          "execution_count": 18
        }
      ]
    },
    {
      "cell_type": "code",
      "source": [
        "best_pipeline = search_cv.best_estimator_\n",
        "y_pred = best_pipeline.predict(X_val)\n",
        "y_pred_probas = best_pipeline.predict_proba(X_val)\n",
        "print(\"First predictions: \", y_pred[:5])"
      ],
      "metadata": {
        "colab": {
          "base_uri": "https://localhost:8080/"
        },
        "id": "WNQqNx0LsTwi",
        "outputId": "66070315-ac2d-490b-d15d-f1f1d74547f5"
      },
      "execution_count": null,
      "outputs": [
        {
          "output_type": "stream",
          "name": "stdout",
          "text": [
            "First predictions:  [17 21 10  9 12]\n"
          ]
        }
      ]
    },
    {
      "cell_type": "code",
      "source": [
        "print(\"Best hyperparams: \", search_cv.best_params_)"
      ],
      "metadata": {
        "colab": {
          "base_uri": "https://localhost:8080/"
        },
        "id": "Cu0CL4C9Wm2F",
        "outputId": "e211c601-5b43-473d-8c63-14defac7e4bb"
      },
      "execution_count": null,
      "outputs": [
        {
          "output_type": "stream",
          "name": "stdout",
          "text": [
            "Best hyperparams:  {'logregression__C': 1}\n"
          ]
        }
      ]
    },
    {
      "cell_type": "code",
      "source": [
        "print(f\"Log loss: {log_loss(y_val, y_pred_probas)}\")\n",
        "print(f\"Top-1 accuracy: {accuracy_score(y_val, y_pred)}\")\n",
        "print(f\"Top-3 accuracy: {top_k_accuracy_score(y_val, y_pred_probas, k=3)}\")"
      ],
      "metadata": {
        "colab": {
          "base_uri": "https://localhost:8080/"
        },
        "id": "J2w2lXKJiTTo",
        "outputId": "24516c1a-dc4e-4a90-ac44-0f6a804ec10f"
      },
      "execution_count": null,
      "outputs": [
        {
          "output_type": "stream",
          "name": "stdout",
          "text": [
            "Log loss: 1.4350003708571442\n",
            "Top-1 accuracy: 0.6050430000585035\n",
            "Top-3 accuracy: 0.8165330837184812\n"
          ]
        }
      ]
    },
    {
      "cell_type": "code",
      "source": [
        "# Время предсказывать для теста"
      ],
      "metadata": {
        "id": "q4Grw8JdlW-s"
      },
      "execution_count": null,
      "outputs": []
    },
    {
      "cell_type": "code",
      "source": [
        "def preprocess_features(titles_x):\n",
        "    X = []\n",
        "    stemmer = PorterStemmer()\n",
        "    stopWords = set(stopwords.words('english')) | set([\"'\", \"\\\"\", \",\", \".\", \"?\", \"!\"])\n",
        "    for title in titles_x:\n",
        "        tokens = wordpunct_tokenize(title.lower())\n",
        "        tokens = list(map(stemmer.stem, tokens))\n",
        "        proc_title = \" \".join([token for token in tokens if token not in stopWords]).replace(\"&\", \"and\")\n",
        "        X.append(proc_title)\n",
        "    return np.array(X)"
      ],
      "metadata": {
        "id": "wn5UODiplZ5E"
      },
      "execution_count": null,
      "outputs": []
    },
    {
      "cell_type": "code",
      "source": [
        "data_test_x = preprocess_features(data_test_x)"
      ],
      "metadata": {
        "id": "CVTITluql7oN"
      },
      "execution_count": null,
      "outputs": []
    },
    {
      "cell_type": "code",
      "source": [
        "test_predictions = best_pipeline.predict(data_test_x)"
      ],
      "metadata": {
        "id": "DuFA-ysRmFTl"
      },
      "execution_count": null,
      "outputs": []
    },
    {
      "cell_type": "code",
      "source": [
        "test_data[\"lib\"] = np.array([labels[i] for i in test_predictions])"
      ],
      "metadata": {
        "id": "4q6uPHZgmSHc"
      },
      "execution_count": null,
      "outputs": []
    },
    {
      "cell_type": "code",
      "source": [
        "test_data.to_csv(\"./data/submission.csv\")"
      ],
      "metadata": {
        "id": "w-aTGIT5mr5h"
      },
      "execution_count": null,
      "outputs": []
    },
    {
      "cell_type": "code",
      "source": [
        "# Были попытки взять предобученную Roberta-base с huggingface в качестве фича-экстрактора, но они,\n",
        "# видимо, из-за недостаточно хорошей архитектуры моей модели, дали худшее качество"
      ],
      "metadata": {
        "id": "OWJLc812TQzG"
      },
      "execution_count": null,
      "outputs": []
    }
  ]
}